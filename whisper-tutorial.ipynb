{
 "cells": [
  {
   "cell_type": "code",
   "execution_count": 1,
   "metadata": {},
   "outputs": [
    {
     "name": "stderr",
     "output_type": "stream",
     "text": [
      "C:\\Users\\pc\\AppData\\Local\\Packages\\PythonSoftwareFoundation.Python.3.8_qbz5n2kfra8p0\\LocalCache\\local-packages\\Python38\\site-packages\\pydub\\utils.py:170: RuntimeWarning: Couldn't find ffmpeg or avconv - defaulting to ffmpeg, but may not work\n",
      "  warn(\"Couldn't find ffmpeg or avconv - defaulting to ffmpeg, but may not work\", RuntimeWarning)\n"
     ]
    }
   ],
   "source": [
    "import io\n",
    "from pydub import AudioSegment\n",
    "import speech_recognition as sr\n",
    "import whisper\n",
    "import tempfile\n",
    "import os\n",
    "import pyttsx3#reconecer \n",
    "\n"
   ]
  },
  {
   "cell_type": "code",
   "execution_count": 2,
   "metadata": {},
   "outputs": [
    {
     "name": "stdout",
     "output_type": "stream",
     "text": [
      "this is the save path:C:\\Users\\pc\\AppData\\Local\\Temp\\tmpj23n5afr\\temp.wav\n"
     ]
    }
   ],
   "source": [
    "temp_file=tempfile.mktemp()\n",
    "save_path = os.path.join(temp_file,\"temp.wav\")\n",
    "print(f\"this is the save path:{save_path}\")"
   ]
  },
  {
   "cell_type": "code",
   "execution_count": 4,
   "metadata": {},
   "outputs": [],
   "source": [
    "listener =sr.Recognizer#\n",
    "\n",
    "engine= pyttsx3.init()#cambiasr vos\n",
    "voices = engine.getProperty(\"voices\")\n",
    "engine.setProperty(\"rate\",145)\n",
    "engine.setProperty(\"voice\",voices[1].id)"
   ]
  },
  {
   "cell_type": "code",
   "execution_count": null,
   "metadata": {},
   "outputs": [],
   "source": [
    "def talk(text):\n",
    "    engine.say(text)\n",
    "    engine.runAndWait()    "
   ]
  },
  {
   "cell_type": "code",
   "execution_count": null,
   "metadata": {},
   "outputs": [],
   "source": [
    "def listen():\n",
    "    try:\n",
    "        with sr.Microphone() as source:\n",
    "            print(\"say somthing...\")\n",
    "            listener.adjust_for_ambient_noise(source)\n",
    "            audio = listener.listen(source)\n",
    "            data = io.BytesIO(audio.get_wav_data())\n",
    "            audio_clip =AudioSegment.from_file(data)\n",
    "            audio_clip.export(save_path,format=\".wav\")\n",
    "    except Exception as e:\n",
    "        print(e) ç\n",
    "    return save_path\n",
    "           "
   ]
  },
  {
   "cell_type": "code",
   "execution_count": null,
   "metadata": {},
   "outputs": [],
   "source": [
    "def recognize_audio(save_path):\n",
    "    audio_model = whisper.load_model(\"base\")\n",
    "    transcription = audio_model.transcribe()"
   ]
  }
 ],
 "metadata": {
  "kernelspec": {
   "display_name": "Python 3",
   "language": "python",
   "name": "python3"
  },
  "language_info": {
   "codemirror_mode": {
    "name": "ipython",
    "version": 3
   },
   "file_extension": ".py",
   "mimetype": "text/x-python",
   "name": "python",
   "nbconvert_exporter": "python",
   "pygments_lexer": "ipython3",
   "version": "3.8.10"
  },
  "orig_nbformat": 4
 },
 "nbformat": 4,
 "nbformat_minor": 2
}
