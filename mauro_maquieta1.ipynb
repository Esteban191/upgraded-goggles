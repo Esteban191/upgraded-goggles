{
 "cells": [
  {
   "cell_type": "code",
   "execution_count": 15,
   "metadata": {},
   "outputs": [],
   "source": [
    "def raiz4_biseccion(a):\n",
    "  def bolzano(f, a, b):\n",
    "    # Verifica si f(a) y f(b) tienen signos diferentes\n",
    "    return f(a) * f(b) < 0\n",
    "\n",
    "  def cortar(f, a, b, e):\n",
    "    # Calcula el punto medio del intervalo\n",
    "    m = (a + b) / 2\n",
    "    # Verifica si la longitud del intervalo es menor que e\n",
    "    if abs(b - a) < e:\n",
    "      return m\n",
    "    # Si f(a) y f(m) tienen signos diferentes, busca en el subintervalo [a, m]\n",
    "    if bolzano(f, a, m):\n",
    "      return cortar(f, a, m, e)\n",
    "    # Si f(m) y f(b) tienen signos diferentes, busca en el subintervalo [m, b]\n",
    "    if bolzano(f, m, b):\n",
    "      return cortar(f, m, b, e)\n",
    "\n",
    "  def biseccion(f, a, b, e):\n",
    "    # Verifica si el intervalo cumple con el teorema de Bolzano\n",
    "    if bolzano(f, a, b):\n",
    "      return cortar(f, a, b, e)\n",
    "\n",
    "  # Define la función f(z) = 2-a\n",
    "  def f(z):\n",
    "    return 2 - a\n",
    "\n",
    "  # Calcula la raíz cuarta de a utilizando bisección en el intervalo [0, 1+a] con e = 0.0001\n",
    "  return biseccion(f, 0, 1+a, 0.0001)**(1/4)\n",
    "\n"
   ]
  },
  {
   "cell_type": "code",
   "execution_count": null,
   "metadata": {},
   "outputs": [],
   "source": [
    "print(raiz4_biseccion(3)) # Debería devolver 2\n",
    "print(raiz4_biseccion(8)) # Debería devolver 1\n",
    "print(raiz4_biseccion(108)) # Debería devolver 3   "
   ]
  },
  {
   "cell_type": "code",
   "execution_count": 18,
   "metadata": {},
   "outputs": [
    {
     "ename": "ModuleNotFoundError",
     "evalue": "No module named 'raiz4_biseccion'",
     "output_type": "error",
     "traceback": [
      "\u001b[1;31m---------------------------------------------------------------------------\u001b[0m",
      "\u001b[1;31mModuleNotFoundError\u001b[0m                       Traceback (most recent call last)",
      "\u001b[1;32m<ipython-input-18-7e00db01d837>\u001b[0m in \u001b[0;36m<module>\u001b[1;34m\u001b[0m\n\u001b[0;32m      1\u001b[0m \u001b[1;31m# Importa la función raiz4_biseccion\u001b[0m\u001b[1;33m\u001b[0m\u001b[1;33m\u001b[0m\u001b[1;33m\u001b[0m\u001b[0m\n\u001b[1;32m----> 2\u001b[1;33m \u001b[1;32mfrom\u001b[0m \u001b[0mraiz4_biseccion\u001b[0m \u001b[1;32mimport\u001b[0m \u001b[0mraiz4_biseccion\u001b[0m\u001b[1;33m\u001b[0m\u001b[1;33m\u001b[0m\u001b[0m\n\u001b[0m\u001b[0;32m      3\u001b[0m \u001b[1;33m\u001b[0m\u001b[0m\n\u001b[0;32m      4\u001b[0m \u001b[1;31m# Calcula la raíz cuarta de 3\u001b[0m\u001b[1;33m\u001b[0m\u001b[1;33m\u001b[0m\u001b[1;33m\u001b[0m\u001b[0m\n\u001b[0;32m      5\u001b[0m \u001b[0mresultado\u001b[0m \u001b[1;33m=\u001b[0m \u001b[0mraiz4_biseccion\u001b[0m\u001b[1;33m(\u001b[0m\u001b[1;36m3\u001b[0m\u001b[1;33m)\u001b[0m\u001b[1;33m\u001b[0m\u001b[1;33m\u001b[0m\u001b[0m\n",
      "\u001b[1;31mModuleNotFoundError\u001b[0m: No module named 'raiz4_biseccion'"
     ]
    }
   ],
   "source": [
    "  # Importa la función raiz4_biseccion\n",
    "from raiz4_biseccion import raiz4_biseccion\n",
    "\n",
    "# Calcula la raíz cuarta de 3\n",
    "resultado = raiz4_biseccion(3)\n",
    "\n",
    "# Muestra el resultado\n",
    "print(resultado)"
   ]
  },
  {
   "cell_type": "code",
   "execution_count": 2,
   "metadata": {},
   "outputs": [],
   "source": [
    "from selenium import webdriver\n",
    "from selenium.webdriver.common.keys import Keys\n",
    "import speech_recognition as sr\n",
    "import time\n",
    "import pyttsx3\n",
    "from selenium.webdriver.chrome.service import Service"
   ]
  },
  {
   "cell_type": "code",
   "execution_count": 3,
   "metadata": {},
   "outputs": [
    {
     "name": "stderr",
     "output_type": "stream",
     "text": [
      "<ipython-input-3-a723bff4a8d2>:1: DeprecationWarning: executable_path has been deprecated, please pass in a Service object\n",
      "  driver = webdriver.Chrome('E:\\pythin_videos\\mauro_selenion audio_whisper\\chromedriver.exe')\n"
     ]
    },
    {
     "name": "stdout",
     "output_type": "stream",
     "text": [
      "google\n",
      "open google\n",
      "google\n",
      "error\n",
      "open google\n",
      "error\n",
      "error\n"
     ]
    },
    {
     "ename": "KeyboardInterrupt",
     "evalue": "",
     "output_type": "error",
     "traceback": [
      "\u001b[1;31m---------------------------------------------------------------------------\u001b[0m",
      "\u001b[1;31mKeyboardInterrupt\u001b[0m                         Traceback (most recent call last)",
      "\u001b[1;32m<ipython-input-3-a723bff4a8d2>\u001b[0m in \u001b[0;36m<module>\u001b[1;34m\u001b[0m\n\u001b[0;32m     27\u001b[0m \u001b[1;32mwhile\u001b[0m \u001b[1;32mTrue\u001b[0m\u001b[1;33m:\u001b[0m\u001b[1;33m\u001b[0m\u001b[1;33m\u001b[0m\u001b[0m\n\u001b[0;32m     28\u001b[0m     \u001b[0mspeak\u001b[0m\u001b[1;33m(\u001b[0m\u001b[1;34m\"How can I help you?\"\u001b[0m\u001b[1;33m)\u001b[0m\u001b[1;33m\u001b[0m\u001b[1;33m\u001b[0m\u001b[0m\n\u001b[1;32m---> 29\u001b[1;33m     \u001b[0mvoice\u001b[0m \u001b[1;33m=\u001b[0m \u001b[0mrecognize_speech\u001b[0m\u001b[1;33m(\u001b[0m\u001b[1;33m)\u001b[0m\u001b[1;33m.\u001b[0m\u001b[0mlower\u001b[0m\u001b[1;33m(\u001b[0m\u001b[1;33m)\u001b[0m\u001b[1;33m\u001b[0m\u001b[1;33m\u001b[0m\u001b[0m\n\u001b[0m\u001b[0;32m     30\u001b[0m     \u001b[0mprint\u001b[0m\u001b[1;33m(\u001b[0m\u001b[0mvoice\u001b[0m\u001b[1;33m)\u001b[0m\u001b[1;33m\u001b[0m\u001b[1;33m\u001b[0m\u001b[0m\n\u001b[0;32m     31\u001b[0m     \u001b[1;32mif\u001b[0m \u001b[1;34m'open google'\u001b[0m \u001b[1;32min\u001b[0m \u001b[0mvoice\u001b[0m\u001b[1;33m:\u001b[0m\u001b[1;33m\u001b[0m\u001b[1;33m\u001b[0m\u001b[0m\n",
      "\u001b[1;32m<ipython-input-3-a723bff4a8d2>\u001b[0m in \u001b[0;36mrecognize_speech\u001b[1;34m()\u001b[0m\n\u001b[0;32m     15\u001b[0m \u001b[1;32mdef\u001b[0m \u001b[0mrecognize_speech\u001b[0m\u001b[1;33m(\u001b[0m\u001b[1;33m)\u001b[0m\u001b[1;33m:\u001b[0m\u001b[1;33m\u001b[0m\u001b[1;33m\u001b[0m\u001b[0m\n\u001b[0;32m     16\u001b[0m     \u001b[1;32mwith\u001b[0m \u001b[0mmicrophone\u001b[0m \u001b[1;32mas\u001b[0m \u001b[0msource\u001b[0m\u001b[1;33m:\u001b[0m\u001b[1;33m\u001b[0m\u001b[1;33m\u001b[0m\u001b[0m\n\u001b[1;32m---> 17\u001b[1;33m         \u001b[0maudio\u001b[0m \u001b[1;33m=\u001b[0m \u001b[0mrecognizer\u001b[0m\u001b[1;33m.\u001b[0m\u001b[0mlisten\u001b[0m\u001b[1;33m(\u001b[0m\u001b[0msource\u001b[0m\u001b[1;33m,\u001b[0m \u001b[0mphrase_time_limit\u001b[0m\u001b[1;33m=\u001b[0m\u001b[1;36m5\u001b[0m\u001b[1;33m)\u001b[0m\u001b[1;33m\u001b[0m\u001b[1;33m\u001b[0m\u001b[0m\n\u001b[0m\u001b[0;32m     18\u001b[0m     \u001b[0mresponse\u001b[0m \u001b[1;33m=\u001b[0m \u001b[1;34m\"\"\u001b[0m\u001b[1;33m\u001b[0m\u001b[1;33m\u001b[0m\u001b[0m\n\u001b[0;32m     19\u001b[0m     \u001b[0mspeak\u001b[0m\u001b[1;33m(\u001b[0m\u001b[1;34m\"Identifying speech..\"\u001b[0m\u001b[1;33m)\u001b[0m\u001b[1;33m\u001b[0m\u001b[1;33m\u001b[0m\u001b[0m\n",
      "\u001b[1;32m~\\AppData\\Local\\Packages\\PythonSoftwareFoundation.Python.3.8_qbz5n2kfra8p0\\LocalCache\\local-packages\\Python38\\site-packages\\speech_recognition\\__init__.py\u001b[0m in \u001b[0;36mlisten\u001b[1;34m(self, source, timeout, phrase_time_limit, snowboy_configuration)\u001b[0m\n\u001b[0;32m    650\u001b[0m                     \u001b[1;32mbreak\u001b[0m\u001b[1;33m\u001b[0m\u001b[1;33m\u001b[0m\u001b[0m\n\u001b[0;32m    651\u001b[0m \u001b[1;33m\u001b[0m\u001b[0m\n\u001b[1;32m--> 652\u001b[1;33m                 \u001b[0mbuffer\u001b[0m \u001b[1;33m=\u001b[0m \u001b[0msource\u001b[0m\u001b[1;33m.\u001b[0m\u001b[0mstream\u001b[0m\u001b[1;33m.\u001b[0m\u001b[0mread\u001b[0m\u001b[1;33m(\u001b[0m\u001b[0msource\u001b[0m\u001b[1;33m.\u001b[0m\u001b[0mCHUNK\u001b[0m\u001b[1;33m)\u001b[0m\u001b[1;33m\u001b[0m\u001b[1;33m\u001b[0m\u001b[0m\n\u001b[0m\u001b[0;32m    653\u001b[0m                 \u001b[1;32mif\u001b[0m \u001b[0mlen\u001b[0m\u001b[1;33m(\u001b[0m\u001b[0mbuffer\u001b[0m\u001b[1;33m)\u001b[0m \u001b[1;33m==\u001b[0m \u001b[1;36m0\u001b[0m\u001b[1;33m:\u001b[0m \u001b[1;32mbreak\u001b[0m  \u001b[1;31m# reached end of the stream\u001b[0m\u001b[1;33m\u001b[0m\u001b[1;33m\u001b[0m\u001b[0m\n\u001b[0;32m    654\u001b[0m                 \u001b[0mframes\u001b[0m\u001b[1;33m.\u001b[0m\u001b[0mappend\u001b[0m\u001b[1;33m(\u001b[0m\u001b[0mbuffer\u001b[0m\u001b[1;33m)\u001b[0m\u001b[1;33m\u001b[0m\u001b[1;33m\u001b[0m\u001b[0m\n",
      "\u001b[1;32m~\\AppData\\Local\\Packages\\PythonSoftwareFoundation.Python.3.8_qbz5n2kfra8p0\\LocalCache\\local-packages\\Python38\\site-packages\\speech_recognition\\__init__.py\u001b[0m in \u001b[0;36mread\u001b[1;34m(self, size)\u001b[0m\n\u001b[0;32m    159\u001b[0m \u001b[1;33m\u001b[0m\u001b[0m\n\u001b[0;32m    160\u001b[0m         \u001b[1;32mdef\u001b[0m \u001b[0mread\u001b[0m\u001b[1;33m(\u001b[0m\u001b[0mself\u001b[0m\u001b[1;33m,\u001b[0m \u001b[0msize\u001b[0m\u001b[1;33m)\u001b[0m\u001b[1;33m:\u001b[0m\u001b[1;33m\u001b[0m\u001b[1;33m\u001b[0m\u001b[0m\n\u001b[1;32m--> 161\u001b[1;33m             \u001b[1;32mreturn\u001b[0m \u001b[0mself\u001b[0m\u001b[1;33m.\u001b[0m\u001b[0mpyaudio_stream\u001b[0m\u001b[1;33m.\u001b[0m\u001b[0mread\u001b[0m\u001b[1;33m(\u001b[0m\u001b[0msize\u001b[0m\u001b[1;33m,\u001b[0m \u001b[0mexception_on_overflow\u001b[0m\u001b[1;33m=\u001b[0m\u001b[1;32mFalse\u001b[0m\u001b[1;33m)\u001b[0m\u001b[1;33m\u001b[0m\u001b[1;33m\u001b[0m\u001b[0m\n\u001b[0m\u001b[0;32m    162\u001b[0m \u001b[1;33m\u001b[0m\u001b[0m\n\u001b[0;32m    163\u001b[0m         \u001b[1;32mdef\u001b[0m \u001b[0mclose\u001b[0m\u001b[1;33m(\u001b[0m\u001b[0mself\u001b[0m\u001b[1;33m)\u001b[0m\u001b[1;33m:\u001b[0m\u001b[1;33m\u001b[0m\u001b[1;33m\u001b[0m\u001b[0m\n",
      "\u001b[1;32m~\\AppData\\Local\\Packages\\PythonSoftwareFoundation.Python.3.8_qbz5n2kfra8p0\\LocalCache\\local-packages\\Python38\\site-packages\\pyaudio.py\u001b[0m in \u001b[0;36mread\u001b[1;34m(self, num_frames, exception_on_overflow)\u001b[0m\n\u001b[0;32m    610\u001b[0m                           paCanNotReadFromAnOutputOnlyStream)\n\u001b[0;32m    611\u001b[0m \u001b[1;33m\u001b[0m\u001b[0m\n\u001b[1;32m--> 612\u001b[1;33m         \u001b[1;32mreturn\u001b[0m \u001b[0mpa\u001b[0m\u001b[1;33m.\u001b[0m\u001b[0mread_stream\u001b[0m\u001b[1;33m(\u001b[0m\u001b[0mself\u001b[0m\u001b[1;33m.\u001b[0m\u001b[0m_stream\u001b[0m\u001b[1;33m,\u001b[0m \u001b[0mnum_frames\u001b[0m\u001b[1;33m,\u001b[0m \u001b[0mexception_on_overflow\u001b[0m\u001b[1;33m)\u001b[0m\u001b[1;33m\u001b[0m\u001b[1;33m\u001b[0m\u001b[0m\n\u001b[0m\u001b[0;32m    613\u001b[0m \u001b[1;33m\u001b[0m\u001b[0m\n\u001b[0;32m    614\u001b[0m     \u001b[1;32mdef\u001b[0m \u001b[0mget_read_available\u001b[0m\u001b[1;33m(\u001b[0m\u001b[0mself\u001b[0m\u001b[1;33m)\u001b[0m\u001b[1;33m:\u001b[0m\u001b[1;33m\u001b[0m\u001b[1;33m\u001b[0m\u001b[0m\n",
      "\u001b[1;31mKeyboardInterrupt\u001b[0m: "
     ]
    }
   ],
   "source": [
    "driver = webdriver.Chrome('E:\\pythin_videos\\mauro_selenion audio_whisper\\chromedriver.exe')\n",
    "driver.maximize_window()\n",
    "\n",
    "engine = pyttsx3.init()\n",
    "voices = engine.getProperty('voices')\n",
    "engine.setProperty('voice', voices[1].id)\n",
    "\n",
    "recognizer = sr.Recognizer()\n",
    "microphone = sr.Microphone()\n",
    "\n",
    "def speak(query):\n",
    "    engine.say(query)\n",
    "    engine.runAndWait()\n",
    "\n",
    "def recognize_speech():\n",
    "    with microphone as source:\n",
    "        audio = recognizer.listen(source, phrase_time_limit=5)\n",
    "    response = \"\"\n",
    "    speak(\"Identifying speech..\")\n",
    "    try:\n",
    "        response = recognizer.recognize_google(audio)\n",
    "    except:\n",
    "        response = \"Error\"\n",
    "    return response\n",
    "time.sleep(3)\n",
    "speak(\"Hello master! I am now online..\")\n",
    "while True:\n",
    "    speak(\"How can I help you?\")\n",
    "    voice = recognize_speech().lower()\n",
    "    print(voice)\n",
    "    if 'open google' in voice:\n",
    "        speak('Opening google..')\n",
    "        driver.execute_script(\"window.open('');\")\n",
    "        window_list = driver.window_handles\n",
    "        driver.switch_to.window(window_list[-1])\n",
    "        driver.get('https://www.conjuntosdeportivos.com/inicio')\n",
    "    elif 'search google' in voice:\n",
    "        while True:\n",
    "            speak('I am listening..')\n",
    "            query = recognize_speech()\n",
    "            if query != 'Error':\n",
    "                break\n",
    "        element = driver.find_element_by_name('q')\n",
    "        element.clear()\n",
    "        element.send_keys(query)\n",
    "        element.send_keys(Keys.RETURN)\n",
    "    elif 'open youtube' in voice:\n",
    "        speak('Opening youtube..')\n",
    "        driver.execute_script(\"window.open('');\")\n",
    "        window_list = driver.window_handles\n",
    "        driver.switch_to.window(window_list[-1])\n",
    "        driver.get('https://youtube.com')\n",
    "    elif 'search youtube' in voice:\n",
    "        while True:\n",
    "            speak('I am listening..')\n",
    "            query = recognize_speech()\n",
    "            if query != 'Error':\n",
    "                break\n",
    "        element = driver.find_element_by_name('search_query')\n",
    "        element.clear()\n",
    "        element.send_keys(query)\n",
    "        element.send_keys(Keys.RETURN)\n",
    "    elif 'switch tab' in voice:\n",
    "        num_tabs = len(driver.window_handles)\n",
    "        cur_tab = 0\n",
    "        for i in range(num_tabs):\n",
    "            if driver.window_handles[i] == driver.current_window_handle:\n",
    "                if i != num_tabs - 1:\n",
    "                    cur_tab = i + 1\n",
    "                    break\n",
    "        driver.switch_to.window(driver.window_handles[cur_tab])\n",
    "    elif 'close tab' in voice:\n",
    "        speak('Closing Tab..')\n",
    "        driver.close()\n",
    "    elif 'go back' in voice:\n",
    "        driver.back()\n",
    "    elif 'go forward' in voice:\n",
    "        driver.forward()\n",
    "    elif 'exit' in voice:\n",
    "        speak('Goodbye Master!')\n",
    "        driver.quit()\n",
    "        break\n",
    "    else:\n",
    "        speak('Not a valid command. Please try again.')\n",
    "    time.sleep(2)"
   ]
  },
  {
   "cell_type": "code",
   "execution_count": 6,
   "metadata": {},
   "outputs": [
    {
     "name": "stderr",
     "output_type": "stream",
     "text": [
      "<ipython-input-6-c9f655d0e78c>:8: DeprecationWarning: executable_path has been deprecated, please pass in a Service object\n",
      "  driver = webdriver.Chrome('E:\\pythin_videos\\mauro_selenion audio_whisper\\chromedriver.exe')\n"
     ]
    },
    {
     "name": "stdout",
     "output_type": "stream",
     "text": [
      "open explorer\n",
      "this forward sporware spoiler\n",
      "sportswear\n",
      "open sportswear sportswear open\n",
      "search google\n"
     ]
    },
    {
     "name": "stderr",
     "output_type": "stream",
     "text": [
      "<ipython-input-6-c9f655d0e78c>:62: DeprecationWarning: find_element_by_name is deprecated. Please use find_element(by=By.NAME, value=name) instead\n",
      "  search_bar = driver.find_element_by_name('q')\n"
     ]
    },
    {
     "ename": "NoSuchElementException",
     "evalue": "Message: no such element: Unable to locate element: {\"method\":\"css selector\",\"selector\":\"[name=\"q\"]\"}\n  (Session info: chrome=110.0.5481.104)\nStacktrace:\nBacktrace:\n\t(No symbol) [0x00566643]\n\t(No symbol) [0x004FBE21]\n\t(No symbol) [0x003FDA9D]\n\t(No symbol) [0x00431342]\n\t(No symbol) [0x0043147B]\n\t(No symbol) [0x00468DC2]\n\t(No symbol) [0x0044FDC4]\n\t(No symbol) [0x00466B09]\n\t(No symbol) [0x0044FB76]\n\t(No symbol) [0x004249C1]\n\t(No symbol) [0x00425E5D]\n\tGetHandleVerifier [0x007DA142+2497106]\n\tGetHandleVerifier [0x008085D3+2686691]\n\tGetHandleVerifier [0x0080BB9C+2700460]\n\tGetHandleVerifier [0x00613B10+635936]\n\t(No symbol) [0x00504A1F]\n\t(No symbol) [0x0050A418]\n\t(No symbol) [0x0050A505]\n\t(No symbol) [0x0051508B]\n\tBaseThreadInitThunk [0x762C00F9+25]\n\tRtlGetAppContainerNamedObjectPath [0x77C47BBE+286]\n\tRtlGetAppContainerNamedObjectPath [0x77C47B8E+238]\n",
     "output_type": "error",
     "traceback": [
      "\u001b[1;31m---------------------------------------------------------------------------\u001b[0m",
      "\u001b[1;31mNoSuchElementException\u001b[0m                    Traceback (most recent call last)",
      "\u001b[1;32m<ipython-input-6-c9f655d0e78c>\u001b[0m in \u001b[0;36m<module>\u001b[1;34m\u001b[0m\n\u001b[0;32m     60\u001b[0m         \u001b[0msearch_query\u001b[0m \u001b[1;33m=\u001b[0m \u001b[0mrecognize_speech\u001b[0m\u001b[1;33m(\u001b[0m\u001b[1;33m)\u001b[0m\u001b[1;33m\u001b[0m\u001b[1;33m\u001b[0m\u001b[0m\n\u001b[0;32m     61\u001b[0m         \u001b[0mspeak\u001b[0m\u001b[1;33m(\u001b[0m\u001b[1;34m'Searching for '\u001b[0m \u001b[1;33m+\u001b[0m \u001b[0msearch_query\u001b[0m\u001b[1;33m)\u001b[0m\u001b[1;33m\u001b[0m\u001b[1;33m\u001b[0m\u001b[0m\n\u001b[1;32m---> 62\u001b[1;33m         \u001b[0msearch_bar\u001b[0m \u001b[1;33m=\u001b[0m \u001b[0mdriver\u001b[0m\u001b[1;33m.\u001b[0m\u001b[0mfind_element_by_name\u001b[0m\u001b[1;33m(\u001b[0m\u001b[1;34m'q'\u001b[0m\u001b[1;33m)\u001b[0m\u001b[1;33m\u001b[0m\u001b[1;33m\u001b[0m\u001b[0m\n\u001b[0m\u001b[0;32m     63\u001b[0m         \u001b[0msearch_bar\u001b[0m\u001b[1;33m.\u001b[0m\u001b[0mclear\u001b[0m\u001b[1;33m(\u001b[0m\u001b[1;33m)\u001b[0m\u001b[1;33m\u001b[0m\u001b[1;33m\u001b[0m\u001b[0m\n\u001b[0;32m     64\u001b[0m         \u001b[0msearch_bar\u001b[0m\u001b[1;33m.\u001b[0m\u001b[0msend_keys\u001b[0m\u001b[1;33m(\u001b[0m\u001b[0msearch_query\u001b[0m\u001b[1;33m)\u001b[0m\u001b[1;33m\u001b[0m\u001b[1;33m\u001b[0m\u001b[0m\n",
      "\u001b[1;32m~\\AppData\\Local\\Packages\\PythonSoftwareFoundation.Python.3.8_qbz5n2kfra8p0\\LocalCache\\local-packages\\Python38\\site-packages\\selenium\\webdriver\\remote\\webdriver.py\u001b[0m in \u001b[0;36mfind_element_by_name\u001b[1;34m(self, name)\u001b[0m\n\u001b[0;32m    663\u001b[0m             \u001b[0mstacklevel\u001b[0m\u001b[1;33m=\u001b[0m\u001b[1;36m2\u001b[0m\u001b[1;33m,\u001b[0m\u001b[1;33m\u001b[0m\u001b[1;33m\u001b[0m\u001b[0m\n\u001b[0;32m    664\u001b[0m         )\n\u001b[1;32m--> 665\u001b[1;33m         \u001b[1;32mreturn\u001b[0m \u001b[0mself\u001b[0m\u001b[1;33m.\u001b[0m\u001b[0mfind_element\u001b[0m\u001b[1;33m(\u001b[0m\u001b[0mby\u001b[0m\u001b[1;33m=\u001b[0m\u001b[0mBy\u001b[0m\u001b[1;33m.\u001b[0m\u001b[0mNAME\u001b[0m\u001b[1;33m,\u001b[0m \u001b[0mvalue\u001b[0m\u001b[1;33m=\u001b[0m\u001b[0mname\u001b[0m\u001b[1;33m)\u001b[0m\u001b[1;33m\u001b[0m\u001b[1;33m\u001b[0m\u001b[0m\n\u001b[0m\u001b[0;32m    666\u001b[0m \u001b[1;33m\u001b[0m\u001b[0m\n\u001b[0;32m    667\u001b[0m     \u001b[1;32mdef\u001b[0m \u001b[0mfind_elements_by_name\u001b[0m\u001b[1;33m(\u001b[0m\u001b[0mself\u001b[0m\u001b[1;33m,\u001b[0m \u001b[0mname\u001b[0m\u001b[1;33m)\u001b[0m \u001b[1;33m->\u001b[0m \u001b[0mList\u001b[0m\u001b[1;33m[\u001b[0m\u001b[0mWebElement\u001b[0m\u001b[1;33m]\u001b[0m\u001b[1;33m:\u001b[0m\u001b[1;33m\u001b[0m\u001b[1;33m\u001b[0m\u001b[0m\n",
      "\u001b[1;32m~\\AppData\\Local\\Packages\\PythonSoftwareFoundation.Python.3.8_qbz5n2kfra8p0\\LocalCache\\local-packages\\Python38\\site-packages\\selenium\\webdriver\\remote\\webdriver.py\u001b[0m in \u001b[0;36mfind_element\u001b[1;34m(self, by, value)\u001b[0m\n\u001b[0;32m   1246\u001b[0m             \u001b[0mvalue\u001b[0m \u001b[1;33m=\u001b[0m \u001b[1;34m'[name=\"%s\"]'\u001b[0m \u001b[1;33m%\u001b[0m \u001b[0mvalue\u001b[0m\u001b[1;33m\u001b[0m\u001b[1;33m\u001b[0m\u001b[0m\n\u001b[0;32m   1247\u001b[0m \u001b[1;33m\u001b[0m\u001b[0m\n\u001b[1;32m-> 1248\u001b[1;33m         return self.execute(Command.FIND_ELEMENT, {\n\u001b[0m\u001b[0;32m   1249\u001b[0m             \u001b[1;34m'using'\u001b[0m\u001b[1;33m:\u001b[0m \u001b[0mby\u001b[0m\u001b[1;33m,\u001b[0m\u001b[1;33m\u001b[0m\u001b[1;33m\u001b[0m\u001b[0m\n\u001b[0;32m   1250\u001b[0m             'value': value})['value']\n",
      "\u001b[1;32m~\\AppData\\Local\\Packages\\PythonSoftwareFoundation.Python.3.8_qbz5n2kfra8p0\\LocalCache\\local-packages\\Python38\\site-packages\\selenium\\webdriver\\remote\\webdriver.py\u001b[0m in \u001b[0;36mexecute\u001b[1;34m(self, driver_command, params)\u001b[0m\n\u001b[0;32m    423\u001b[0m         \u001b[0mresponse\u001b[0m \u001b[1;33m=\u001b[0m \u001b[0mself\u001b[0m\u001b[1;33m.\u001b[0m\u001b[0mcommand_executor\u001b[0m\u001b[1;33m.\u001b[0m\u001b[0mexecute\u001b[0m\u001b[1;33m(\u001b[0m\u001b[0mdriver_command\u001b[0m\u001b[1;33m,\u001b[0m \u001b[0mparams\u001b[0m\u001b[1;33m)\u001b[0m\u001b[1;33m\u001b[0m\u001b[1;33m\u001b[0m\u001b[0m\n\u001b[0;32m    424\u001b[0m         \u001b[1;32mif\u001b[0m \u001b[0mresponse\u001b[0m\u001b[1;33m:\u001b[0m\u001b[1;33m\u001b[0m\u001b[1;33m\u001b[0m\u001b[0m\n\u001b[1;32m--> 425\u001b[1;33m             \u001b[0mself\u001b[0m\u001b[1;33m.\u001b[0m\u001b[0merror_handler\u001b[0m\u001b[1;33m.\u001b[0m\u001b[0mcheck_response\u001b[0m\u001b[1;33m(\u001b[0m\u001b[0mresponse\u001b[0m\u001b[1;33m)\u001b[0m\u001b[1;33m\u001b[0m\u001b[1;33m\u001b[0m\u001b[0m\n\u001b[0m\u001b[0;32m    426\u001b[0m             response['value'] = self._unwrap_value(\n\u001b[0;32m    427\u001b[0m                 response.get('value', None))\n",
      "\u001b[1;32m~\\AppData\\Local\\Packages\\PythonSoftwareFoundation.Python.3.8_qbz5n2kfra8p0\\LocalCache\\local-packages\\Python38\\site-packages\\selenium\\webdriver\\remote\\errorhandler.py\u001b[0m in \u001b[0;36mcheck_response\u001b[1;34m(self, response)\u001b[0m\n\u001b[0;32m    245\u001b[0m                 \u001b[0malert_text\u001b[0m \u001b[1;33m=\u001b[0m \u001b[0mvalue\u001b[0m\u001b[1;33m[\u001b[0m\u001b[1;34m'alert'\u001b[0m\u001b[1;33m]\u001b[0m\u001b[1;33m.\u001b[0m\u001b[0mget\u001b[0m\u001b[1;33m(\u001b[0m\u001b[1;34m'text'\u001b[0m\u001b[1;33m)\u001b[0m\u001b[1;33m\u001b[0m\u001b[1;33m\u001b[0m\u001b[0m\n\u001b[0;32m    246\u001b[0m             \u001b[1;32mraise\u001b[0m \u001b[0mexception_class\u001b[0m\u001b[1;33m(\u001b[0m\u001b[0mmessage\u001b[0m\u001b[1;33m,\u001b[0m \u001b[0mscreen\u001b[0m\u001b[1;33m,\u001b[0m \u001b[0mstacktrace\u001b[0m\u001b[1;33m,\u001b[0m \u001b[0malert_text\u001b[0m\u001b[1;33m)\u001b[0m  \u001b[1;31m# type: ignore[call-arg]  # mypy is not smart enough here\u001b[0m\u001b[1;33m\u001b[0m\u001b[1;33m\u001b[0m\u001b[0m\n\u001b[1;32m--> 247\u001b[1;33m         \u001b[1;32mraise\u001b[0m \u001b[0mexception_class\u001b[0m\u001b[1;33m(\u001b[0m\u001b[0mmessage\u001b[0m\u001b[1;33m,\u001b[0m \u001b[0mscreen\u001b[0m\u001b[1;33m,\u001b[0m \u001b[0mstacktrace\u001b[0m\u001b[1;33m)\u001b[0m\u001b[1;33m\u001b[0m\u001b[1;33m\u001b[0m\u001b[0m\n\u001b[0m\u001b[0;32m    248\u001b[0m \u001b[1;33m\u001b[0m\u001b[0m\n\u001b[0;32m    249\u001b[0m     \u001b[1;32mdef\u001b[0m \u001b[0m_value_or_default\u001b[0m\u001b[1;33m(\u001b[0m\u001b[0mself\u001b[0m\u001b[1;33m,\u001b[0m \u001b[0mobj\u001b[0m\u001b[1;33m:\u001b[0m \u001b[0mMapping\u001b[0m\u001b[1;33m[\u001b[0m\u001b[0m_KT\u001b[0m\u001b[1;33m,\u001b[0m \u001b[0m_VT\u001b[0m\u001b[1;33m]\u001b[0m\u001b[1;33m,\u001b[0m \u001b[0mkey\u001b[0m\u001b[1;33m:\u001b[0m \u001b[0m_KT\u001b[0m\u001b[1;33m,\u001b[0m \u001b[0mdefault\u001b[0m\u001b[1;33m:\u001b[0m \u001b[0m_VT\u001b[0m\u001b[1;33m)\u001b[0m \u001b[1;33m->\u001b[0m \u001b[0m_VT\u001b[0m\u001b[1;33m:\u001b[0m\u001b[1;33m\u001b[0m\u001b[1;33m\u001b[0m\u001b[0m\n",
      "\u001b[1;31mNoSuchElementException\u001b[0m: Message: no such element: Unable to locate element: {\"method\":\"css selector\",\"selector\":\"[name=\"q\"]\"}\n  (Session info: chrome=110.0.5481.104)\nStacktrace:\nBacktrace:\n\t(No symbol) [0x00566643]\n\t(No symbol) [0x004FBE21]\n\t(No symbol) [0x003FDA9D]\n\t(No symbol) [0x00431342]\n\t(No symbol) [0x0043147B]\n\t(No symbol) [0x00468DC2]\n\t(No symbol) [0x0044FDC4]\n\t(No symbol) [0x00466B09]\n\t(No symbol) [0x0044FB76]\n\t(No symbol) [0x004249C1]\n\t(No symbol) [0x00425E5D]\n\tGetHandleVerifier [0x007DA142+2497106]\n\tGetHandleVerifier [0x008085D3+2686691]\n\tGetHandleVerifier [0x0080BB9C+2700460]\n\tGetHandleVerifier [0x00613B10+635936]\n\t(No symbol) [0x00504A1F]\n\t(No symbol) [0x0050A418]\n\t(No symbol) [0x0050A505]\n\t(No symbol) [0x0051508B]\n\tBaseThreadInitThunk [0x762C00F9+25]\n\tRtlGetAppContainerNamedObjectPath [0x77C47BBE+286]\n\tRtlGetAppContainerNamedObjectPath [0x77C47B8E+238]\n"
     ]
    }
   ],
   "source": [
    "##2\n",
    "from selenium import webdriver\n",
    "import time\n",
    "import pyttsx3\n",
    "import speech_recognition as sr\n",
    "\n",
    "# Inicializar el controlador del navegador\n",
    "driver = webdriver.Chrome('E:\\pythin_videos\\mauro_selenion audio_whisper\\chromedriver.exe')\n",
    "driver.maximize_window()\n",
    "\n",
    "# Inicializar el motor de voz\n",
    "engine = pyttsx3.init()\n",
    "voices = engine.getProperty('voices')\n",
    "engine.setProperty('voice', voices[1].id)\n",
    "\n",
    "# Inicializar el reconocedor de voz\n",
    "recognizer = sr.Recognizer()\n",
    "microphone = sr.Microphone()\n",
    "\n",
    "# Definir una función para hacer que la computadora hable\n",
    "def speak(query):\n",
    "    engine.say(query)\n",
    "    engine.runAndWait()\n",
    "\n",
    "# Definir una función para reconocer la voz del usuario\n",
    "def recognize_speech():\n",
    "    with microphone as source:\n",
    "        audio = recognizer.listen(source, phrase_time_limit=5)\n",
    "    response = \"\"\n",
    "    speak(\"Identifying speech..\")\n",
    "    try:\n",
    "        response = recognizer.recognize_google(audio)\n",
    "    except:\n",
    "        response = \"Error\"\n",
    "    return response\n",
    "\n",
    "# Esperar unos segundos para dar tiempo al navegador a cargarse\n",
    "time.sleep(3)\n",
    "\n",
    "# Saludar al usuario\n",
    "speak(\"Hello master! I am now online..\")\n",
    "\n",
    "# Bucle principal para escuchar los comandos de voz\n",
    "while True:\n",
    "    speak(\"How can I help you?\")\n",
    "    voice = recognize_speech().lower()\n",
    "    print(voice)\n",
    "\n",
    "    # Abrir una nueva pestaña en el navegador y visitar Google\n",
    "    if 'open sportswear' in voice:\n",
    "        speak('Opening sportswear..')\n",
    "        driver.execute_script(\"window.open('');\")\n",
    "        window_list = driver.window_handles\n",
    "        driver.switch_to.window(window_list[-1])\n",
    "        driver.get('https://www.conjuntosdeportivos.com/inicio')\n",
    "\n",
    "    # Buscar algo en Google\n",
    "    elif 'search google' in voice:\n",
    "        speak('What would you like me to search?')\n",
    "        search_query = recognize_speech()\n",
    "        speak('Searching for ' + search_query)\n",
    "        search_bar = driver.find_element_by_name('q')\n",
    "        search_bar.clear()\n",
    "        search_bar.send_keys(search_query)\n",
    "        search_bar.submit()\n",
    "\n",
    "    # Cerrar la pestaña activa\n",
    "    elif 'close tab' in voice:\n",
    "        speak('Closing Tab..')\n",
    "        cur_tab = driver.current_window_handle\n",
    "        driver.switch_to.window(driver.window_handles[-1])\n",
    "        driver.close()\n",
    "        driver.switch_to.window(cur_tab)\n",
    "\n",
    "    # Ir a la página anterior\n",
    "    elif 'go back' in voice:\n",
    "        driver.back()\n",
    "\n",
    "    # Ir a la página siguiente\n",
    "    elif 'go forward' in voice:\n",
    "        driver.forward()\n",
    "\n",
    "    # Salir del programa\n",
    "    elif 'exit' in voice:\n",
    "        speak('Goodbye Master!')\n",
    "        driver.quit()\n",
    "        break\n",
    "\n",
    "    # Comando no válido\n",
    "    else:\n",
    "        speak('Not a valid command. Please try again.')\n",
    "\n",
    "    # Esperar unos segundos antes de volver a escuchar\n",
    "    time.sleep(2)\n"
   ]
  }
 ],
 "metadata": {
  "kernelspec": {
   "display_name": "Python 3.8.10 64-bit (microsoft store)",
   "language": "python",
   "name": "python3"
  },
  "language_info": {
   "codemirror_mode": {
    "name": "ipython",
    "version": 3
   },
   "file_extension": ".py",
   "mimetype": "text/x-python",
   "name": "python",
   "nbconvert_exporter": "python",
   "pygments_lexer": "ipython3",
   "version": "3.8.10"
  },
  "orig_nbformat": 4,
  "vscode": {
   "interpreter": {
    "hash": "aa2de151b2db827b7040ccab7b01d9cd4c9cc98c1235a4bf11f89f868f03f023"
   }
  }
 },
 "nbformat": 4,
 "nbformat_minor": 2
}
