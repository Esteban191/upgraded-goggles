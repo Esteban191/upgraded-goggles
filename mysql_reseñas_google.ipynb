{
  "cells": [
    {
      "cell_type": "markdown",
      "metadata": {
        "id": "view-in-github",
        "colab_type": "text"
      },
      "source": [
        "<a href=\"https://colab.research.google.com/github/Esteban191/upgraded-goggles/blob/main/mysql_rese%C3%B1as_google.ipynb\" target=\"_parent\"><img src=\"https://colab.research.google.com/assets/colab-badge.svg\" alt=\"Open In Colab\"/></a>"
      ]
    },
    {
      "cell_type": "code",
      "execution_count": null,
      "metadata": {
        "id": "OCfNKTIpGEdX"
      },
      "outputs": [],
      "source": [
        "\n",
        "from selenium import webdriver\n",
        "from scrapy import Selector\n",
        "import pandas as pd\n",
        "import time\n",
        "import sqlite3\n",
        "import mysql.connector\n"
      ]
    },
    {
      "cell_type": "code",
      "execution_count": null,
      "metadata": {
        "id": "wKeMobp3GEdZ",
        "outputId": "b342cdee-3c02-414b-99eb-874095932f4e"
      },
      "outputs": [
        {
          "name": "stderr",
          "output_type": "stream",
          "text": [
            "<ipython-input-232-9ad4b2d43aa7>:3: DeprecationWarning: executable_path has been deprecated, please pass in a Service object\n",
            "  driver = webdriver.Chrome(chromedrive_path)\n"
          ]
        }
      ],
      "source": [
        "\n",
        "#ejecuto el drive de chrom que debe encontrarse en la ruta del archivo\n",
        "chromedrive_path = './chromedriver' # use the path to the driver you downloaded from previous steps\n",
        "driver = webdriver.Chrome(chromedrive_path)"
      ]
    },
    {
      "cell_type": "code",
      "execution_count": null,
      "metadata": {
        "id": "tyZRudRRGEdZ"
      },
      "outputs": [],
      "source": [
        "#entro al url pro medio de seleinum \n",
        "url= \"https://www.google.com/search?q=ortounino&rlz=1C5CHFA_enCO966CO966&ei=Q0g3ZKzsFqamqtsP_8i1yAI&ved=0ahUKEwjsmZjTyKX-AhUmk2oFHX9kDSkQ4dUDCA8&uact=5&oq=ortounino&gs_lcp=Cgxnd3Mtd2l6LXNlcnAQAzIFCAAQogQyBQgAEKIEMgUIABCiBDIFCAAQogQyBQgAEKIEOgwIABCKBRBDEEYQ-QE6CwgAEIAEELEDEIMBOgUIABCABDoRCC4QgAQQsQMQgwEQxwEQ0QM6BwgAEIoFEEM6CAgAEIAEELEDOgsILhCABBCxAxCDAToFCC4QgAQ6CwguEIAEEMcBEK8BOg4IABCABBCxAxCDARDJAzoICAAQgAQQkgM6CAgAEIoFEJIDOhMILhCKBRDHARDRAxDUAhBDEOoEOg0IABCKBRCxAxCDARBDOh4ILhCKBRDHARDRAxDUAhBDEOoEENwEEN4EEOAEGAE6BwgAEIAEEBM6CQgAEIAEEAoQEzoGCAAQHhATOg0IABAFEB4Q8QQQChATOggIABAFEB4QEzoCCCY6DgguEIAEEMcBEK8BEOoEOgYIABAFEB46BAgAEB46GQguEIAEEMcBEK8BEOoEENwEEN4EEOAEGAFKBAhBGABQAFiFEGD7EmgBcAB4AIABmQKIAdwRkgEFMC4xLjmYAQCgAQHAAQHaAQYIARABGBQ&sclient=gws-wiz-serp#lrd=0x8e44284dcb8729cb:0x71931901ac163712,1\"\n",
        "driver.get(url)\n",
        "time.sleep(5)"
      ]
    },
    {
      "cell_type": "code",
      "execution_count": null,
      "metadata": {
        "id": "AOg5oCXJGEda",
        "outputId": "f8fb6ff0-420c-4e45-8917-3d75a0718208"
      },
      "outputs": [
        {
          "name": "stderr",
          "output_type": "stream",
          "text": [
            "<ipython-input-234-153344c31b2e>:4: DeprecationWarning: find_element_by_xpath is deprecated. Please use find_element(by=By.XPATH, value=xpath) instead\n",
            "  element = driver.find_element_by_xpath(\"//div[@class='review-dialog-list']\")\n"
          ]
        }
      ],
      "source": [
        "\n",
        "#realizo scroll en el xpath de las reviws y reliza screoll en un while hara el final\n",
        "import time\n",
        "# Hacer scroll hasta el final de la página\n",
        "element = driver.find_element_by_xpath(\"//div[@class='review-dialog-list']\")\n",
        "scroll_height = driver.execute_script(\"return arguments[0].scrollHeight\", element)\n",
        "last_scroll_height = 0\n",
        "\n",
        "while last_scroll_height != scroll_height:\n",
        "    last_scroll_height = scroll_height\n",
        "    driver.execute_script(\"arguments[0].scrollTop = arguments[0].scrollHeight\", element)\n",
        "    time.sleep(1)\n",
        "    scroll_height = driver.execute_script(\"return arguments[0].scrollHeight\", element)\n"
      ]
    },
    {
      "cell_type": "code",
      "execution_count": null,
      "metadata": {
        "id": "IZOj031YGEda"
      },
      "outputs": [],
      "source": [
        "\n",
        "\n",
        "page_content = driver.page_source\n",
        "response = Selector(text=page_content)\n",
        "results = []\n",
        "\n",
        "for el in response.xpath('.//div[contains(@class , \"gws-localreviews__google-review\")]'):\n",
        "    title = el.xpath('.//div[@class=\"TSUbDb\"]/a/text()').extract_first('')\n",
        "    body = el.xpath('.//span[@class=\"review-snippet\" and not(@data-local-review-id)]/text() | .//div[@class=\"Jtu6Td\"]/span/span/text()').extract_first('').strip()\n",
        "    date = el.xpath('.//span[contains(text(),\"Hace\") or contains(text(),\"semanas\")]/text()').extract_first('')\n",
        "\n",
        "    rating= el.xpath('.//span[@class = \"lTi8oc z3HNkc\"]/@aria-label').extract_first('').replace('stars' ,'').strip()\n",
        "    #.//span[contains(@aria-label, \"lTi8oc z3HNkc\")]/@aria-label'\n",
        "\n",
        "#agregar al array\n",
        "    results.append({\n",
        "        'title': title.strip() if title else '',\n",
        "        'body': body.strip() if body else '',\n",
        "        'date': date.strip() if date else '',\n",
        "        \"rating\":rating.strip() if rating else \" \",\n",
        "        \n",
        "    })\n",
        "#crear datafremne\n",
        "df = pd.DataFrame(results)\n",
        "\n",
        "df['title'] = df['title'].str.upper()\n",
        "df['body'] = df['body']\n",
        "df['date'] = df['date']\n",
        "df['rating'] = df['rating']\n",
        "\n",
        "\n",
        "# Insretar registros a la base de datos de python por defecto que es sql3\n",
        "conn = sqlite3.connect('./db/ortounion.db')\n",
        "df.to_sql(name='reseñas', con=conn, if_exists='replace', index=False)\n",
        "conn.commit()\n"
      ]
    },
    {
      "cell_type": "code",
      "execution_count": null,
      "metadata": {
        "id": "QCPmPwqCGEdb"
      },
      "outputs": [],
      "source": [
        "#df"
      ]
    },
    {
      "cell_type": "code",
      "execution_count": null,
      "metadata": {
        "id": "miu0VAzMGEdb"
      },
      "outputs": [],
      "source": [
        "\n",
        "##conecccion a base de datos para mysql por xampaa\n",
        "mydb = mysql.connector.connect(user='root', password='', database='odontologia', host='localhost', port=3307,charset='utf8mb4')\n",
        "#print(mydb)\n"
      ]
    },
    {
      "cell_type": "code",
      "execution_count": null,
      "metadata": {
        "id": "yzgMrACpGEdb"
      },
      "outputs": [],
      "source": [
        "#creacion de tabla mysql en xamppa\n",
        "# Crear la tabla 'reseñas'\n",
        "mycursor = mydb.cursor()\n",
        "mycursor.execute(\"CREATE TABLE IF NOT EXISTS reseñas (id INT AUTO_INCREMENT PRIMARY KEY, title VARCHAR(255), body TEXT, date VARCHAR(255), rating VARCHAR(255))\")\n",
        "\n",
        "# Truncar la tabla antes de insertar nuevos registros\n",
        "mycursor.execute(\"TRUNCATE TABLE reseñas\")\n",
        "\n",
        "# Iterar a través del DataFrame y agregar los registros a la tabla 'resenas'\n",
        "for index, row in df.iterrows():\n",
        "    title = row['title']\n",
        "    body = row['body']\n",
        "    date = row['date']\n",
        "    rating = row['rating']\n",
        "    \n",
        "    # Insertar el registro en la tabla 'resenas'\n",
        "    sql = \"INSERT INTO reseñas (title, body, date, rating) VALUES (%s, %s, %s, %s)\"\n",
        "    val = (title, body, date, rating)\n",
        "    mycursor.execute(sql, val)\n",
        "\n",
        "# Guardar los cambios y cerrar la conexión a la base de datos\n",
        "mydb.commit()\n",
        "mydb.close()\n"
      ]
    }
  ],
  "metadata": {
    "kernelspec": {
      "display_name": "Python 3",
      "language": "python",
      "name": "python3"
    },
    "language_info": {
      "codemirror_mode": {
        "name": "ipython",
        "version": 3
      },
      "file_extension": ".py",
      "mimetype": "text/x-python",
      "name": "python",
      "nbconvert_exporter": "python",
      "pygments_lexer": "ipython3",
      "version": "3.8.10"
    },
    "orig_nbformat": 4,
    "colab": {
      "provenance": [],
      "include_colab_link": true
    }
  },
  "nbformat": 4,
  "nbformat_minor": 0
}